{
 "nbformat": 4,
 "nbformat_minor": 2,
 "metadata": {
  "language_info": {
   "name": "python",
   "codemirror_mode": {
    "name": "ipython",
    "version": 3
   },
   "version": "3.7.6-final"
  },
  "orig_nbformat": 2,
  "file_extension": ".py",
  "mimetype": "text/x-python",
  "name": "python",
  "npconvert_exporter": "python",
  "pygments_lexer": "ipython3",
  "version": 3,
  "kernelspec": {
   "name": "python37664bitqmindcondaa1deeb84d76f434e8c580936d5f69e0e",
   "display_name": "Python 3.7.6 64-bit ('QMIND': conda)"
  }
 },
 "cells": [
  {
   "cell_type": "code",
   "execution_count": 1,
   "metadata": {},
   "outputs": [
    {
     "name": "stderr",
     "output_type": "stream",
     "text": "Using TensorFlow backend.\n"
    }
   ],
   "source": [
    "from PIL import ImageFile\n",
    "import keras as K\n",
    "import cv2\n",
    "import os"
   ]
  },
  {
   "cell_type": "code",
   "execution_count": 10,
   "metadata": {},
   "outputs": [],
   "source": [
    "class CameraAngleClassifier():\n",
    "    def __init__(self, trackViewModelFilename, otherViewModelFilename):\n",
    "        super().__init__()\n",
    "        self.isTrackViewModel = K.models.load_model(trackViewModelFilename)\n",
    "        self.otherViewModel = K.models.load_model(otherViewModelFilename)\n",
    "\n",
    "    def getCameraAngle(self, x):\n",
    "        isTrackView = self.isTrackViewModel.predict(x, steps=1)\n",
    "        print(isTrackView)\n"
   ]
  },
  {
   "cell_type": "code",
   "execution_count": 12,
   "metadata": {},
   "outputs": [],
   "source": [
    "cameraAngleClassifier = CameraAngleClassifier(\"IsTrackViewModel.h5\", \"OtherViewModel.h5\")"
   ]
  },
  {
   "cell_type": "code",
   "execution_count": 21,
   "metadata": {},
   "outputs": [
    {
     "name": "stdout",
     "output_type": "stream",
     "text": "[[0. 1.]]\n[[0. 1.]]\n[[1.04145934e-22 1.00000000e+00]]\n[[0. 1.]]\n[[9.1937245e-30 1.0000000e+00]]\n[[0. 1.]]\n"
    }
   ],
   "source": [
    "filedir = '../../data/test/isOtherView'\n",
    "count = 0\n",
    "for filename in os.listdir(filedir):\n",
    "    image = cv2.imread(os.path.join(filedir, filename), cv2.IMREAD_COLOR)\n",
    "    image = K.backend.reshape(K.backend.constant(cv2.resize(image, (299, 299))), shape=(1, 299, 299, 3))\n",
    "    cameraAngleClassifier.getCameraAngle(image)\n",
    "    count += 1\n",
    "    if count > 100:\n",
    "        break"
   ]
  },
  {
   "cell_type": "code",
   "execution_count": 19,
   "metadata": {},
   "outputs": [
    {
     "name": "stdout",
     "output_type": "stream",
     "text": "(None, 299, 299, 3) => (None, 2048)\n(None, 2048) => (None, 2)\n=========================================\n(None, 299, 299, 3) => (None, 2048)\n(None, 2048) => (None, 4)\n"
    }
   ],
   "source": [
    "for layer in cameraAngleClassifier.isTrackViewModel.layers:\n",
    "    print(\"{} => {}\".format(layer.input_shape, layer.output_shape))\n",
    "print('=========================================')\n",
    "for layer in cameraAngleClassifier.otherViewModel.layers:\n",
    "    print(\"{} => {}\".format(layer.input_shape, layer.output_shape))"
   ]
  },
  {
   "cell_type": "code",
   "execution_count": null,
   "metadata": {},
   "outputs": [],
   "source": []
  }
 ]
}