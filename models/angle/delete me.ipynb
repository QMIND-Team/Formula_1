{
  "cells": [
    {
      "cell_type": "code",
      "execution_count": 6,
      "outputs": [],
      "source": "import csv\nimport os\nimport cv2\nimport numpy as np\nfrom PIL import ImageFile\nfrom keras_preprocessing.image import ImageDataGenerator\nfrom sklearn.utils import class_weight\nimport tensorflow as tf\nfrom keras import backend as K\nfrom keras.applications import InceptionV3\nfrom keras.models import Model\nfrom keras import Sequential\nfrom keras.activations import softmax\nfrom keras.layers import Dense\n\n\ndef process_csv(csv_path):\n    frame_dict \u003d {}\n    class_list \u003d []\n    with open(csv_path) as csv_file:\n        csv_reader \u003d csv.reader(csv_file, delimiter\u003d\u0027,\u0027)\n        headers \u003d next(csv_reader)  # Records the first row of csv\n\n        for row in csv_reader:\n            if row[4] !\u003d \"\":\n                frame_dict[row[1]] \u003d row[4]\n                class_list.append(row[4])\n\n    csv_file.close()\n    return frame_dict, class_list\n\n\n\n\n\n    ",
      "metadata": {
        "pycharm": {
          "metadata": false,
          "name": "#%%\n",
          "is_executing": false
        }
      }
    },
    {
      "cell_type": "code",
      "execution_count": 7,
      "outputs": [
        {
          "name": "stdout",
          "text": [
            "[\u0027isDriverView\u0027 \u0027isOtherView\u0027 \u0027isPitView\u0027 \u0027isSpectatorView\u0027 \u0027isTrackView\u0027]\n"
          ],
          "output_type": "stream"
        },
        {
          "traceback": [
            "\u001b[0;31m---------------------------------------------------------------------------\u001b[0m",
            "\u001b[0;31mAttributeError\u001b[0m                            Traceback (most recent call last)",
            "\u001b[0;32m\u003cipython-input-7-607dbb482f2c\u003e\u001b[0m in \u001b[0;36m\u003cmodule\u003e\u001b[0;34m\u001b[0m\n\u001b[1;32m     20\u001b[0m \u001b[0;34m\u001b[0m\u001b[0m\n\u001b[1;32m     21\u001b[0m \u001b[0;31m#sess \u003d tf.Session()\u001b[0m\u001b[0;34m\u001b[0m\u001b[0;34m\u001b[0m\u001b[0;34m\u001b[0m\u001b[0m\n\u001b[0;32m---\u003e 22\u001b[0;31m \u001b[0mtf\u001b[0m\u001b[0;34m.\u001b[0m\u001b[0menable_eager_execution\u001b[0m\u001b[0;34m(\u001b[0m\u001b[0;34m)\u001b[0m\u001b[0;34m\u001b[0m\u001b[0;34m\u001b[0m\u001b[0m\n\u001b[0m\u001b[1;32m     23\u001b[0m \u001b[0;34m\u001b[0m\u001b[0m\n\u001b[1;32m     24\u001b[0m \u001b[0;32mdef\u001b[0m \u001b[0mweighted_categorical_crossentropy\u001b[0m\u001b[0;34m(\u001b[0m\u001b[0mweights\u001b[0m\u001b[0;34m)\u001b[0m\u001b[0;34m:\u001b[0m\u001b[0;34m\u001b[0m\u001b[0;34m\u001b[0m\u001b[0m\n",
            "\u001b[0;31mAttributeError\u001b[0m: module \u0027tensorflow\u0027 has no attribute \u0027enable_eager_execution\u0027"
          ],
          "ename": "AttributeError",
          "evalue": "module \u0027tensorflow\u0027 has no attribute \u0027enable_eager_execution\u0027",
          "output_type": "error"
        }
      ],
      "source": "frame_dict, class_list \u003d process_csv(\"../../labels/Frame Tagger - Singapore.csv\")\n\n# image_preprocessor(\"../../frames/Singapore Frames\", frame_dict)\n\nprint(np.unique(class_list))\n\nclass_weights \u003d class_weight.compute_class_weight(\u0027balanced\u0027, np.unique(class_list), class_list)\n\noriginal_model \u003d InceptionV3()\nbottleneck_input \u003d original_model.get_layer(index\u003d0).input\nbottleneck_output \u003d original_model.get_layer(index\u003d-2).output\nbottleneck_model \u003d Model(inputs\u003dbottleneck_input, outputs\u003dbottleneck_output)\n\nfor layer in bottleneck_model.layers:\n    layer.trainable \u003d False\n\nnew_model \u003d Sequential()\nnew_model.add(bottleneck_model)\nnew_model.add(Dense(5, activation\u003dsoftmax, input_dim\u003d2048))\n\n#sess \u003d tf.Session()\ntf.enable_eager_execution() \n\ndef weighted_categorical_crossentropy(weights):\n    \"\"\"\n    A weighted version of keras.objectives.categorical_crossentropy\n    \n    Variables:\n        weights: numpy array of shape (C,) where C is the number of classes\n    \n    Usage:\n        weights \u003d np.array([0.5,2,10]) # Class one at 0.5, class 2 twice the normal weights, class 3 10x.\n        loss \u003d weighted_categorical_crossentropy(weights)\n        model.compile(loss\u003dloss,optimizer\u003d\u0027adam\u0027)\n    \"\"\"\n    \n    weights \u003d K.variable(weights)\n        \n    def loss(y_true, y_pred):\n        # scale predictions so that the class probas of each sample sum to 1\n        y_pred /\u003d K.sum(y_pred, axis\u003d-1, keepdims\u003dTrue)\n        # clip to prevent NaN\u0027s and Inf\u0027s\n        y_pred \u003d K.clip(y_pred, K.epsilon(), 1 - K.epsilon())\n        # calc\n        loss \u003d y_true * K.log(y_pred) * weights\n        loss \u003d -K.sum(loss, -1)\n        return loss\n    \n    return loss\n\ndef weighted_accuracy(weights):\n    #weights \u003d K.variable(weights)\n    \n    def accuracy(y_true, y_pred):\n        resIndices \u003d K.argmax(y_pred, 1)\n        testIndices \u003d K.argmax(y_true, 1)\n        # resIndices \u003d resIndices\n        # testIndices \u003d testIndices\n        \n        # results \u003d np.array([np.insert(np.zeros(4), index, 1) for index in resIndices])\n        \n        conf_matrix \u003d confusion_matrix(resIndices, testIndices)\n        \n        true_pos \u003d np.diag(conf_matrix)\n        p \u003d np.sum(conf_matrix, axis\u003d0)\n        r \u003d np.sum(conf_matrix, axis\u003d1)\n        precision \u003d [np.sum(true_pos[i] / p[i]) if p[i] \u003e 0 else 0 for i in range(5)]\n        recall \u003d [np.sum(true_pos[i] / r[i]) if r[i] \u003e 0 else 0 for i in range(5)]\n        accuracy \u003d np.sum(true_pos)/np.sum(conf_matrix)\n        \n        # if print_results:\n        #     print(“Accuracy: {:.2%}“.format(accuracy))\n        #     print(“Precision: {:.2%}“.format(np.mean(precision)))\n        #     print(“Recall: {:.2%}“.format(np.mean(recall)))\n        #     print(“Confusion Matrix:“)\n        #     print(conf_matrix)\n        return accuracy, precision, recall\n        \n        #with sess.as_default():\n        # y_true \u003d y_true.numpy()\n        # y_pred \u003d y_pred.numpy()\n        # weight \u003d weights\n        # weight \u003d weight / K.sum(weight, axis\u003d-1, keepdims\u003dTrue)\n        # correct \u003d np.ones_like(y_true)\n        # correct[np.arange(len(y_true)), y_pred.argmax(axis\u003d-1)] \u003d 0\n        # correct \u003d np.sum(np.abs(y_true - correct) * weight, axis\u003d-1)\n        # accuracy \u003d np.sum(correct) / len(y_true)\n        # weight \u003d weights\n        # weight \u003d weight / K.sum(weight, axis\u003d-1, keepdims\u003dTrue)\n        # correct \u003d K.ones_like(y_true)\n        # #correct[K.arange(K.int_shape(y_true)[0]), y_pred.argmax(axis\u003d-1)] \u003d 0\n        # correct \u003d K.sum(K.abs(y_true - correct) * weight, axis\u003d-1, keepdims\u003dTrue)\n        # accuracy \u003d K.mean(correct)\n        return K.constant(accuracy)\n    return accuracy\n\n# For a binary classification problem\nnew_model.compile(optimizer\u003d\u0027rmsprop\u0027,\n                  loss\u003dweighted_categorical_crossentropy(class_weights),\n                  metrics\u003d[\u0027accuracy\u0027, weighted_accuracy(class_weights)])\n\ndatagen \u003d ImageDataGenerator()\ntrain_it \u003d datagen.flow_from_directory(\"/Users/jd/Documents/Formula_1/data/train\", target_size\u003d(299, 299),\n                                       batch_size\u003d64, class_mode\u003d\"categorical\", color_mode\u003d\"rgb\")\n\ntest_it \u003d datagen.flow_from_directory(\"/Users/jd/Documents/Formula_1/data/test\", target_size\u003d(299, 299),\n                                      batch_size\u003d64, class_mode\u003d\"categorical\", color_mode\u003d\"rgb\")\n\nImageFile.LOAD_TRUNCATED_IMAGES \u003d True\nnew_model.fit_generator(train_it, class_weight\u003dclass_weights, epochs\u003d1)\n\nprint(np.unique(class_list))\nprint(class_weights)\n",
      "metadata": {
        "pycharm": {
          "metadata": false,
          "name": "#%%\n",
          "is_executing": false
        }
      }
    },
    {
      "cell_type": "code",
      "execution_count": null,
      "outputs": [],
      "source": "\nfrom sklearn.metrics import confusion_matrix, classification_report\n\nprint(new_model.metrics_names)\na \u003d new_model.evaluate_generator(test_it)\nprint(a)\n\n#Confution Matrix and Classification Report\nY_pred \u003d new_model.predict_generator(test_it, 1326 // 64+1)\ny_pred \u003d np.argmax(Y_pred, axis\u003d1)\nprint(\u0027Confusion Matrix\u0027)\nprint(confusion_matrix(test_it.classes, y_pred))\nprint(\u0027Classification Report\u0027)\ntarget_names \u003d np.unique(class_list)\nprint(classification_report(test_it.classes, y_pred, target_names\u003dtarget_names))\n\nY_pred \u003d new_model.predict_generator(train_it, 5721 // 64+1)\ny_pred \u003d np.argmax(Y_pred, axis\u003d1)\nprint(\u0027Confusion Matrix _ Train\u0027)\nprint(confusion_matrix(train_it.classes, y_pred))\n\n",
      "metadata": {
        "pycharm": {
          "metadata": false,
          "name": "#%%\n",
          "is_executing": true
        }
      }
    },
    {
      "cell_type": "code",
      "execution_count": null,
      "outputs": [],
      "source": "\ntf.keras.model.save(\"CameraAngleModel.h5\")\n\n\n",
      "metadata": {
        "pycharm": {
          "metadata": false,
          "name": "#%%\n",
          "is_executing": true
        }
      }
    }
  ],
  "metadata": {
    "language_info": {
      "codemirror_mode": {
        "name": "ipython",
        "version": 2
      },
      "file_extension": ".py",
      "mimetype": "text/x-python",
      "name": "python",
      "nbconvert_exporter": "python",
      "pygments_lexer": "ipython2",
      "version": "2.7.6"
    },
    "kernelspec": {
      "name": "python3",
      "language": "python",
      "display_name": "Python 3"
    },
    "stem_cell": {
      "cell_type": "raw",
      "source": "",
      "metadata": {
        "pycharm": {
          "metadata": false
        }
      }
    }
  },
  "nbformat": 4,
  "nbformat_minor": 0
}